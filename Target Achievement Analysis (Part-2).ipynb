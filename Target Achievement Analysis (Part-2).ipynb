{
 "cells": [
  {
   "cell_type": "code",
   "execution_count": 2,
   "id": "c23427a7-3625-449f-a671-51a2c5395d3b",
   "metadata": {},
   "outputs": [
    {
     "name": "stdout",
     "output_type": "stream",
     "text": [
      "Hello World\n"
     ]
    }
   ],
   "source": [
    "print(\"Hello World\")"
   ]
  },
  {
   "cell_type": "code",
   "execution_count": 4,
   "id": "10726214-a1b0-42cd-8ce5-31bc65bc82a9",
   "metadata": {},
   "outputs": [],
   "source": [
    "# Using the Sales Target dataset, calculate the percentage change in target sales\n",
    "# for the Furniture category month-over-month."
   ]
  },
  {
   "cell_type": "code",
   "execution_count": 6,
   "id": "be69423d-af18-4ad7-89c8-831f717e1a9d",
   "metadata": {},
   "outputs": [],
   "source": [
    "import pandas as pd\n",
    "import pandas as pd\n",
    "import matplotlib.pyplot as plt\n",
    "import numpy as np"
   ]
  },
  {
   "cell_type": "code",
   "execution_count": 7,
   "id": "f07c2ac6-5771-45bf-8e34-7a8ca787c505",
   "metadata": {},
   "outputs": [
    {
     "data": {
      "text/html": [
       "<div>\n",
       "<style scoped>\n",
       "    .dataframe tbody tr th:only-of-type {\n",
       "        vertical-align: middle;\n",
       "    }\n",
       "\n",
       "    .dataframe tbody tr th {\n",
       "        vertical-align: top;\n",
       "    }\n",
       "\n",
       "    .dataframe thead th {\n",
       "        text-align: right;\n",
       "    }\n",
       "</style>\n",
       "<table border=\"1\" class=\"dataframe\">\n",
       "  <thead>\n",
       "    <tr style=\"text-align: right;\">\n",
       "      <th></th>\n",
       "      <th>Month of Order Date</th>\n",
       "      <th>Category</th>\n",
       "      <th>Target</th>\n",
       "    </tr>\n",
       "  </thead>\n",
       "  <tbody>\n",
       "    <tr>\n",
       "      <th>0</th>\n",
       "      <td>Apr-18</td>\n",
       "      <td>Furniture</td>\n",
       "      <td>10400.0</td>\n",
       "    </tr>\n",
       "    <tr>\n",
       "      <th>1</th>\n",
       "      <td>May-18</td>\n",
       "      <td>Furniture</td>\n",
       "      <td>10500.0</td>\n",
       "    </tr>\n",
       "    <tr>\n",
       "      <th>2</th>\n",
       "      <td>Jun-18</td>\n",
       "      <td>Furniture</td>\n",
       "      <td>10600.0</td>\n",
       "    </tr>\n",
       "    <tr>\n",
       "      <th>3</th>\n",
       "      <td>Jul-18</td>\n",
       "      <td>Furniture</td>\n",
       "      <td>10800.0</td>\n",
       "    </tr>\n",
       "    <tr>\n",
       "      <th>4</th>\n",
       "      <td>Aug-18</td>\n",
       "      <td>Furniture</td>\n",
       "      <td>10900.0</td>\n",
       "    </tr>\n",
       "  </tbody>\n",
       "</table>\n",
       "</div>"
      ],
      "text/plain": [
       "  Month of Order Date   Category   Target\n",
       "0              Apr-18  Furniture  10400.0\n",
       "1              May-18  Furniture  10500.0\n",
       "2              Jun-18  Furniture  10600.0\n",
       "3              Jul-18  Furniture  10800.0\n",
       "4              Aug-18  Furniture  10900.0"
      ]
     },
     "execution_count": 7,
     "metadata": {},
     "output_type": "execute_result"
    }
   ],
   "source": [
    "sales_target_data = pd.read_csv(\"Sales_target_DD2E9B96A0.csv\")\n",
    "sales_target_data.head()"
   ]
  },
  {
   "cell_type": "code",
   "execution_count": 10,
   "id": "fdc8321a-d451-4e77-92cd-c4c516e83b83",
   "metadata": {},
   "outputs": [],
   "source": [
    "furniture_data = sales_target_data[sales_target_data['Category']=='Furniture']"
   ]
  },
  {
   "cell_type": "code",
   "execution_count": 12,
   "id": "4d821a87-4041-4f27-b256-e59dcdfd810c",
   "metadata": {},
   "outputs": [
    {
     "data": {
      "text/html": [
       "<div>\n",
       "<style scoped>\n",
       "    .dataframe tbody tr th:only-of-type {\n",
       "        vertical-align: middle;\n",
       "    }\n",
       "\n",
       "    .dataframe tbody tr th {\n",
       "        vertical-align: top;\n",
       "    }\n",
       "\n",
       "    .dataframe thead th {\n",
       "        text-align: right;\n",
       "    }\n",
       "</style>\n",
       "<table border=\"1\" class=\"dataframe\">\n",
       "  <thead>\n",
       "    <tr style=\"text-align: right;\">\n",
       "      <th></th>\n",
       "      <th>Month of Order Date</th>\n",
       "      <th>Category</th>\n",
       "      <th>Target</th>\n",
       "    </tr>\n",
       "  </thead>\n",
       "  <tbody>\n",
       "    <tr>\n",
       "      <th>0</th>\n",
       "      <td>Apr-18</td>\n",
       "      <td>Furniture</td>\n",
       "      <td>10400.0</td>\n",
       "    </tr>\n",
       "    <tr>\n",
       "      <th>1</th>\n",
       "      <td>May-18</td>\n",
       "      <td>Furniture</td>\n",
       "      <td>10500.0</td>\n",
       "    </tr>\n",
       "    <tr>\n",
       "      <th>2</th>\n",
       "      <td>Jun-18</td>\n",
       "      <td>Furniture</td>\n",
       "      <td>10600.0</td>\n",
       "    </tr>\n",
       "    <tr>\n",
       "      <th>3</th>\n",
       "      <td>Jul-18</td>\n",
       "      <td>Furniture</td>\n",
       "      <td>10800.0</td>\n",
       "    </tr>\n",
       "    <tr>\n",
       "      <th>4</th>\n",
       "      <td>Aug-18</td>\n",
       "      <td>Furniture</td>\n",
       "      <td>10900.0</td>\n",
       "    </tr>\n",
       "    <tr>\n",
       "      <th>5</th>\n",
       "      <td>Sep-18</td>\n",
       "      <td>Furniture</td>\n",
       "      <td>11000.0</td>\n",
       "    </tr>\n",
       "    <tr>\n",
       "      <th>6</th>\n",
       "      <td>Oct-18</td>\n",
       "      <td>Furniture</td>\n",
       "      <td>11100.0</td>\n",
       "    </tr>\n",
       "    <tr>\n",
       "      <th>7</th>\n",
       "      <td>Nov-18</td>\n",
       "      <td>Furniture</td>\n",
       "      <td>11300.0</td>\n",
       "    </tr>\n",
       "    <tr>\n",
       "      <th>8</th>\n",
       "      <td>Dec-18</td>\n",
       "      <td>Furniture</td>\n",
       "      <td>11400.0</td>\n",
       "    </tr>\n",
       "    <tr>\n",
       "      <th>9</th>\n",
       "      <td>Jan-19</td>\n",
       "      <td>Furniture</td>\n",
       "      <td>11500.0</td>\n",
       "    </tr>\n",
       "    <tr>\n",
       "      <th>10</th>\n",
       "      <td>Feb-19</td>\n",
       "      <td>Furniture</td>\n",
       "      <td>11600.0</td>\n",
       "    </tr>\n",
       "    <tr>\n",
       "      <th>11</th>\n",
       "      <td>Mar-19</td>\n",
       "      <td>Furniture</td>\n",
       "      <td>11800.0</td>\n",
       "    </tr>\n",
       "  </tbody>\n",
       "</table>\n",
       "</div>"
      ],
      "text/plain": [
       "   Month of Order Date   Category   Target\n",
       "0               Apr-18  Furniture  10400.0\n",
       "1               May-18  Furniture  10500.0\n",
       "2               Jun-18  Furniture  10600.0\n",
       "3               Jul-18  Furniture  10800.0\n",
       "4               Aug-18  Furniture  10900.0\n",
       "5               Sep-18  Furniture  11000.0\n",
       "6               Oct-18  Furniture  11100.0\n",
       "7               Nov-18  Furniture  11300.0\n",
       "8               Dec-18  Furniture  11400.0\n",
       "9               Jan-19  Furniture  11500.0\n",
       "10              Feb-19  Furniture  11600.0\n",
       "11              Mar-19  Furniture  11800.0"
      ]
     },
     "execution_count": 12,
     "metadata": {},
     "output_type": "execute_result"
    }
   ],
   "source": [
    "furniture_data"
   ]
  },
  {
   "cell_type": "code",
   "execution_count": 14,
   "id": "449a0a68-44d9-44bc-b5cc-e92169fee7e9",
   "metadata": {},
   "outputs": [
    {
     "name": "stderr",
     "output_type": "stream",
     "text": [
      "C:\\Users\\mandi\\AppData\\Local\\Temp\\ipykernel_3444\\2548550206.py:1: SettingWithCopyWarning: \n",
      "A value is trying to be set on a copy of a slice from a DataFrame.\n",
      "Try using .loc[row_indexer,col_indexer] = value instead\n",
      "\n",
      "See the caveats in the documentation: https://pandas.pydata.org/pandas-docs/stable/user_guide/indexing.html#returning-a-view-versus-a-copy\n",
      "  furniture_data['Month of Order Date'] = pd.to_datetime(furniture_data['Month of Order Date'],format = '%b-%y')\n"
     ]
    }
   ],
   "source": [
    "furniture_data['Month of Order Date'] = pd.to_datetime(furniture_data['Month of Order Date'],format = '%b-%y')"
   ]
  },
  {
   "cell_type": "code",
   "execution_count": 16,
   "id": "9be11830-05d7-41a6-acdc-b8ab46bb7a06",
   "metadata": {},
   "outputs": [
    {
     "data": {
      "text/html": [
       "<div>\n",
       "<style scoped>\n",
       "    .dataframe tbody tr th:only-of-type {\n",
       "        vertical-align: middle;\n",
       "    }\n",
       "\n",
       "    .dataframe tbody tr th {\n",
       "        vertical-align: top;\n",
       "    }\n",
       "\n",
       "    .dataframe thead th {\n",
       "        text-align: right;\n",
       "    }\n",
       "</style>\n",
       "<table border=\"1\" class=\"dataframe\">\n",
       "  <thead>\n",
       "    <tr style=\"text-align: right;\">\n",
       "      <th></th>\n",
       "      <th>Month of Order Date</th>\n",
       "      <th>Category</th>\n",
       "      <th>Target</th>\n",
       "    </tr>\n",
       "  </thead>\n",
       "  <tbody>\n",
       "    <tr>\n",
       "      <th>0</th>\n",
       "      <td>2018-04-01</td>\n",
       "      <td>Furniture</td>\n",
       "      <td>10400.0</td>\n",
       "    </tr>\n",
       "    <tr>\n",
       "      <th>1</th>\n",
       "      <td>2018-05-01</td>\n",
       "      <td>Furniture</td>\n",
       "      <td>10500.0</td>\n",
       "    </tr>\n",
       "    <tr>\n",
       "      <th>2</th>\n",
       "      <td>2018-06-01</td>\n",
       "      <td>Furniture</td>\n",
       "      <td>10600.0</td>\n",
       "    </tr>\n",
       "    <tr>\n",
       "      <th>3</th>\n",
       "      <td>2018-07-01</td>\n",
       "      <td>Furniture</td>\n",
       "      <td>10800.0</td>\n",
       "    </tr>\n",
       "    <tr>\n",
       "      <th>4</th>\n",
       "      <td>2018-08-01</td>\n",
       "      <td>Furniture</td>\n",
       "      <td>10900.0</td>\n",
       "    </tr>\n",
       "    <tr>\n",
       "      <th>5</th>\n",
       "      <td>2018-09-01</td>\n",
       "      <td>Furniture</td>\n",
       "      <td>11000.0</td>\n",
       "    </tr>\n",
       "    <tr>\n",
       "      <th>6</th>\n",
       "      <td>2018-10-01</td>\n",
       "      <td>Furniture</td>\n",
       "      <td>11100.0</td>\n",
       "    </tr>\n",
       "    <tr>\n",
       "      <th>7</th>\n",
       "      <td>2018-11-01</td>\n",
       "      <td>Furniture</td>\n",
       "      <td>11300.0</td>\n",
       "    </tr>\n",
       "    <tr>\n",
       "      <th>8</th>\n",
       "      <td>2018-12-01</td>\n",
       "      <td>Furniture</td>\n",
       "      <td>11400.0</td>\n",
       "    </tr>\n",
       "    <tr>\n",
       "      <th>9</th>\n",
       "      <td>2019-01-01</td>\n",
       "      <td>Furniture</td>\n",
       "      <td>11500.0</td>\n",
       "    </tr>\n",
       "    <tr>\n",
       "      <th>10</th>\n",
       "      <td>2019-02-01</td>\n",
       "      <td>Furniture</td>\n",
       "      <td>11600.0</td>\n",
       "    </tr>\n",
       "    <tr>\n",
       "      <th>11</th>\n",
       "      <td>2019-03-01</td>\n",
       "      <td>Furniture</td>\n",
       "      <td>11800.0</td>\n",
       "    </tr>\n",
       "  </tbody>\n",
       "</table>\n",
       "</div>"
      ],
      "text/plain": [
       "   Month of Order Date   Category   Target\n",
       "0           2018-04-01  Furniture  10400.0\n",
       "1           2018-05-01  Furniture  10500.0\n",
       "2           2018-06-01  Furniture  10600.0\n",
       "3           2018-07-01  Furniture  10800.0\n",
       "4           2018-08-01  Furniture  10900.0\n",
       "5           2018-09-01  Furniture  11000.0\n",
       "6           2018-10-01  Furniture  11100.0\n",
       "7           2018-11-01  Furniture  11300.0\n",
       "8           2018-12-01  Furniture  11400.0\n",
       "9           2019-01-01  Furniture  11500.0\n",
       "10          2019-02-01  Furniture  11600.0\n",
       "11          2019-03-01  Furniture  11800.0"
      ]
     },
     "execution_count": 16,
     "metadata": {},
     "output_type": "execute_result"
    }
   ],
   "source": [
    "furniture_data"
   ]
  },
  {
   "cell_type": "code",
   "execution_count": 18,
   "id": "91d638f5-0eb3-461c-bad6-8ec68b9f9e5a",
   "metadata": {},
   "outputs": [
    {
     "name": "stderr",
     "output_type": "stream",
     "text": [
      "C:\\Users\\mandi\\AppData\\Local\\Temp\\ipykernel_3444\\2888918349.py:1: SettingWithCopyWarning: \n",
      "A value is trying to be set on a copy of a slice from a DataFrame.\n",
      "Try using .loc[row_indexer,col_indexer] = value instead\n",
      "\n",
      "See the caveats in the documentation: https://pandas.pydata.org/pandas-docs/stable/user_guide/indexing.html#returning-a-view-versus-a-copy\n",
      "  furniture_data['MoM (%) Change'] = round(((furniture_data['Target']-furniture_data['Target'].shift(1))/furniture_data['Target'].shift(1))*100 ,2 )\n"
     ]
    }
   ],
   "source": [
    "furniture_data['MoM (%) Change'] = round(((furniture_data['Target']-furniture_data['Target'].shift(1))/furniture_data['Target'].shift(1))*100 ,2 )"
   ]
  },
  {
   "cell_type": "code",
   "execution_count": 20,
   "id": "d1b081a4-0299-4bf4-a504-83dfaafbd797",
   "metadata": {},
   "outputs": [],
   "source": [
    "final_furniture_data_with_Mom = furniture_data"
   ]
  },
  {
   "cell_type": "code",
   "execution_count": 22,
   "id": "6c9d4627-cfdb-4c0e-a9c5-657dce9c24d0",
   "metadata": {},
   "outputs": [
    {
     "data": {
      "text/html": [
       "<div>\n",
       "<style scoped>\n",
       "    .dataframe tbody tr th:only-of-type {\n",
       "        vertical-align: middle;\n",
       "    }\n",
       "\n",
       "    .dataframe tbody tr th {\n",
       "        vertical-align: top;\n",
       "    }\n",
       "\n",
       "    .dataframe thead th {\n",
       "        text-align: right;\n",
       "    }\n",
       "</style>\n",
       "<table border=\"1\" class=\"dataframe\">\n",
       "  <thead>\n",
       "    <tr style=\"text-align: right;\">\n",
       "      <th></th>\n",
       "      <th>Month of Order Date</th>\n",
       "      <th>Category</th>\n",
       "      <th>Target</th>\n",
       "      <th>MoM (%) Change</th>\n",
       "    </tr>\n",
       "  </thead>\n",
       "  <tbody>\n",
       "    <tr>\n",
       "      <th>0</th>\n",
       "      <td>2018-04-01</td>\n",
       "      <td>Furniture</td>\n",
       "      <td>10400.0</td>\n",
       "      <td>NaN</td>\n",
       "    </tr>\n",
       "    <tr>\n",
       "      <th>1</th>\n",
       "      <td>2018-05-01</td>\n",
       "      <td>Furniture</td>\n",
       "      <td>10500.0</td>\n",
       "      <td>0.96</td>\n",
       "    </tr>\n",
       "    <tr>\n",
       "      <th>2</th>\n",
       "      <td>2018-06-01</td>\n",
       "      <td>Furniture</td>\n",
       "      <td>10600.0</td>\n",
       "      <td>0.95</td>\n",
       "    </tr>\n",
       "    <tr>\n",
       "      <th>3</th>\n",
       "      <td>2018-07-01</td>\n",
       "      <td>Furniture</td>\n",
       "      <td>10800.0</td>\n",
       "      <td>1.89</td>\n",
       "    </tr>\n",
       "    <tr>\n",
       "      <th>4</th>\n",
       "      <td>2018-08-01</td>\n",
       "      <td>Furniture</td>\n",
       "      <td>10900.0</td>\n",
       "      <td>0.93</td>\n",
       "    </tr>\n",
       "    <tr>\n",
       "      <th>5</th>\n",
       "      <td>2018-09-01</td>\n",
       "      <td>Furniture</td>\n",
       "      <td>11000.0</td>\n",
       "      <td>0.92</td>\n",
       "    </tr>\n",
       "    <tr>\n",
       "      <th>6</th>\n",
       "      <td>2018-10-01</td>\n",
       "      <td>Furniture</td>\n",
       "      <td>11100.0</td>\n",
       "      <td>0.91</td>\n",
       "    </tr>\n",
       "    <tr>\n",
       "      <th>7</th>\n",
       "      <td>2018-11-01</td>\n",
       "      <td>Furniture</td>\n",
       "      <td>11300.0</td>\n",
       "      <td>1.80</td>\n",
       "    </tr>\n",
       "    <tr>\n",
       "      <th>8</th>\n",
       "      <td>2018-12-01</td>\n",
       "      <td>Furniture</td>\n",
       "      <td>11400.0</td>\n",
       "      <td>0.88</td>\n",
       "    </tr>\n",
       "    <tr>\n",
       "      <th>9</th>\n",
       "      <td>2019-01-01</td>\n",
       "      <td>Furniture</td>\n",
       "      <td>11500.0</td>\n",
       "      <td>0.88</td>\n",
       "    </tr>\n",
       "    <tr>\n",
       "      <th>10</th>\n",
       "      <td>2019-02-01</td>\n",
       "      <td>Furniture</td>\n",
       "      <td>11600.0</td>\n",
       "      <td>0.87</td>\n",
       "    </tr>\n",
       "    <tr>\n",
       "      <th>11</th>\n",
       "      <td>2019-03-01</td>\n",
       "      <td>Furniture</td>\n",
       "      <td>11800.0</td>\n",
       "      <td>1.72</td>\n",
       "    </tr>\n",
       "  </tbody>\n",
       "</table>\n",
       "</div>"
      ],
      "text/plain": [
       "   Month of Order Date   Category   Target  MoM (%) Change\n",
       "0           2018-04-01  Furniture  10400.0             NaN\n",
       "1           2018-05-01  Furniture  10500.0            0.96\n",
       "2           2018-06-01  Furniture  10600.0            0.95\n",
       "3           2018-07-01  Furniture  10800.0            1.89\n",
       "4           2018-08-01  Furniture  10900.0            0.93\n",
       "5           2018-09-01  Furniture  11000.0            0.92\n",
       "6           2018-10-01  Furniture  11100.0            0.91\n",
       "7           2018-11-01  Furniture  11300.0            1.80\n",
       "8           2018-12-01  Furniture  11400.0            0.88\n",
       "9           2019-01-01  Furniture  11500.0            0.88\n",
       "10          2019-02-01  Furniture  11600.0            0.87\n",
       "11          2019-03-01  Furniture  11800.0            1.72"
      ]
     },
     "execution_count": 22,
     "metadata": {},
     "output_type": "execute_result"
    }
   ],
   "source": [
    "final_furniture_data_with_Mom"
   ]
  },
  {
   "cell_type": "code",
   "execution_count": 24,
   "id": "74c16605-6947-434b-a307-706cac3c89da",
   "metadata": {},
   "outputs": [],
   "source": [
    "# Analyse the trends to identify months with significant target fluctuations.\n",
    "# Suggest strategies for aligning target expectations with actual performance\n",
    "# trends."
   ]
  },
  {
   "cell_type": "code",
   "execution_count": 26,
   "id": "98999f66-871b-4331-8ecb-79882691e3ea",
   "metadata": {},
   "outputs": [
    {
     "data": {
      "text/plain": [
       "Month of Order Date    datetime64[ns]\n",
       "Category                       object\n",
       "Target                        float64\n",
       "MoM (%) Change                float64\n",
       "dtype: object"
      ]
     },
     "execution_count": 26,
     "metadata": {},
     "output_type": "execute_result"
    }
   ],
   "source": [
    "final_furniture_data_with_Mom.dtypes"
   ]
  },
  {
   "cell_type": "code",
   "execution_count": 28,
   "id": "8ec50183-83a5-4408-a864-705974089b54",
   "metadata": {},
   "outputs": [
    {
     "data": {
      "text/html": [
       "<div>\n",
       "<style scoped>\n",
       "    .dataframe tbody tr th:only-of-type {\n",
       "        vertical-align: middle;\n",
       "    }\n",
       "\n",
       "    .dataframe tbody tr th {\n",
       "        vertical-align: top;\n",
       "    }\n",
       "\n",
       "    .dataframe thead th {\n",
       "        text-align: right;\n",
       "    }\n",
       "</style>\n",
       "<table border=\"1\" class=\"dataframe\">\n",
       "  <thead>\n",
       "    <tr style=\"text-align: right;\">\n",
       "      <th></th>\n",
       "      <th>Month of Order Date</th>\n",
       "      <th>Category</th>\n",
       "      <th>Target</th>\n",
       "      <th>MoM (%) Change</th>\n",
       "    </tr>\n",
       "  </thead>\n",
       "  <tbody>\n",
       "    <tr>\n",
       "      <th>0</th>\n",
       "      <td>2018-04-01</td>\n",
       "      <td>Furniture</td>\n",
       "      <td>10400.0</td>\n",
       "      <td>NaN</td>\n",
       "    </tr>\n",
       "    <tr>\n",
       "      <th>1</th>\n",
       "      <td>2018-05-01</td>\n",
       "      <td>Furniture</td>\n",
       "      <td>10500.0</td>\n",
       "      <td>0.96</td>\n",
       "    </tr>\n",
       "    <tr>\n",
       "      <th>2</th>\n",
       "      <td>2018-06-01</td>\n",
       "      <td>Furniture</td>\n",
       "      <td>10600.0</td>\n",
       "      <td>0.95</td>\n",
       "    </tr>\n",
       "    <tr>\n",
       "      <th>3</th>\n",
       "      <td>2018-07-01</td>\n",
       "      <td>Furniture</td>\n",
       "      <td>10800.0</td>\n",
       "      <td>1.89</td>\n",
       "    </tr>\n",
       "    <tr>\n",
       "      <th>4</th>\n",
       "      <td>2018-08-01</td>\n",
       "      <td>Furniture</td>\n",
       "      <td>10900.0</td>\n",
       "      <td>0.93</td>\n",
       "    </tr>\n",
       "    <tr>\n",
       "      <th>5</th>\n",
       "      <td>2018-09-01</td>\n",
       "      <td>Furniture</td>\n",
       "      <td>11000.0</td>\n",
       "      <td>0.92</td>\n",
       "    </tr>\n",
       "    <tr>\n",
       "      <th>6</th>\n",
       "      <td>2018-10-01</td>\n",
       "      <td>Furniture</td>\n",
       "      <td>11100.0</td>\n",
       "      <td>0.91</td>\n",
       "    </tr>\n",
       "    <tr>\n",
       "      <th>7</th>\n",
       "      <td>2018-11-01</td>\n",
       "      <td>Furniture</td>\n",
       "      <td>11300.0</td>\n",
       "      <td>1.80</td>\n",
       "    </tr>\n",
       "    <tr>\n",
       "      <th>8</th>\n",
       "      <td>2018-12-01</td>\n",
       "      <td>Furniture</td>\n",
       "      <td>11400.0</td>\n",
       "      <td>0.88</td>\n",
       "    </tr>\n",
       "    <tr>\n",
       "      <th>9</th>\n",
       "      <td>2019-01-01</td>\n",
       "      <td>Furniture</td>\n",
       "      <td>11500.0</td>\n",
       "      <td>0.88</td>\n",
       "    </tr>\n",
       "    <tr>\n",
       "      <th>10</th>\n",
       "      <td>2019-02-01</td>\n",
       "      <td>Furniture</td>\n",
       "      <td>11600.0</td>\n",
       "      <td>0.87</td>\n",
       "    </tr>\n",
       "    <tr>\n",
       "      <th>11</th>\n",
       "      <td>2019-03-01</td>\n",
       "      <td>Furniture</td>\n",
       "      <td>11800.0</td>\n",
       "      <td>1.72</td>\n",
       "    </tr>\n",
       "  </tbody>\n",
       "</table>\n",
       "</div>"
      ],
      "text/plain": [
       "   Month of Order Date   Category   Target  MoM (%) Change\n",
       "0           2018-04-01  Furniture  10400.0             NaN\n",
       "1           2018-05-01  Furniture  10500.0            0.96\n",
       "2           2018-06-01  Furniture  10600.0            0.95\n",
       "3           2018-07-01  Furniture  10800.0            1.89\n",
       "4           2018-08-01  Furniture  10900.0            0.93\n",
       "5           2018-09-01  Furniture  11000.0            0.92\n",
       "6           2018-10-01  Furniture  11100.0            0.91\n",
       "7           2018-11-01  Furniture  11300.0            1.80\n",
       "8           2018-12-01  Furniture  11400.0            0.88\n",
       "9           2019-01-01  Furniture  11500.0            0.88\n",
       "10          2019-02-01  Furniture  11600.0            0.87\n",
       "11          2019-03-01  Furniture  11800.0            1.72"
      ]
     },
     "execution_count": 28,
     "metadata": {},
     "output_type": "execute_result"
    }
   ],
   "source": [
    "final_furniture_data_with_Mom"
   ]
  },
  {
   "cell_type": "code",
   "execution_count": 30,
   "id": "1fda2ac2-64d0-462e-a305-6acea63babe1",
   "metadata": {},
   "outputs": [],
   "source": [
    "data = final_furniture_data_with_Mom"
   ]
  },
  {
   "cell_type": "code",
   "execution_count": 32,
   "id": "43e164d9-f056-456f-b5cc-ebb12d1c3b0a",
   "metadata": {},
   "outputs": [
    {
     "data": {
      "text/plain": [
       "1.155"
      ]
     },
     "execution_count": 32,
     "metadata": {},
     "output_type": "execute_result"
    }
   ],
   "source": [
    "mean_change = data[\"MoM (%) Change\"].mean()\n",
    "round(mean_change,3)"
   ]
  },
  {
   "cell_type": "code",
   "execution_count": 34,
   "id": "3ecdb10f-c4c8-45ed-b42f-3a1891b9c77d",
   "metadata": {},
   "outputs": [
    {
     "data": {
      "text/plain": [
       "0.419"
      ]
     },
     "execution_count": 34,
     "metadata": {},
     "output_type": "execute_result"
    }
   ],
   "source": [
    "standard_deviation_change = data[\"MoM (%) Change\"].std()\n",
    "round(standard_deviation_change,3)"
   ]
  },
  {
   "cell_type": "code",
   "execution_count": 36,
   "id": "f58a6efc-d48c-411c-bad7-091b94984d02",
   "metadata": {},
   "outputs": [
    {
     "data": {
      "text/plain": [
       "1.784"
      ]
     },
     "execution_count": 36,
     "metadata": {},
     "output_type": "execute_result"
    }
   ],
   "source": [
    "threshold = mean_change+(1.5*standard_deviation_change)\n",
    "round(threshold,3)"
   ]
  },
  {
   "cell_type": "code",
   "execution_count": 40,
   "id": "f326d357-40b4-4ef9-8ca5-1aececf6b86e",
   "metadata": {},
   "outputs": [
    {
     "data": {
      "text/plain": [
       "1.34"
      ]
     },
     "execution_count": 40,
     "metadata": {},
     "output_type": "execute_result"
    }
   ],
   "source": [
    "threshold_percentile = data[\"MoM (%) Change\"].quantile(0.75)\n",
    "round(threshold_percentile,3)"
   ]
  },
  {
   "cell_type": "code",
   "execution_count": 102,
   "id": "322ef610-10b4-474a-87d8-4fbef330cda0",
   "metadata": {},
   "outputs": [
    {
     "data": {
      "image/png": "[encoded data removed]",
      "text/plain": [
       "<Figure size 1000x500 with 1 Axes>"
      ]
     },
     "metadata": {},
     "output_type": "display_data"
    }
   ],
   "source": [
    "fixed_threshold = 1.5\n",
    "colors = ['red' if i>fixed_threshold else 'green' for i in data['MoM (%) Change'].fillna(0)]\n",
    "plt.figure(figsize=(10,5))\n",
    "plt.bar(data['Month of Order Date'],data['MoM (%) Change'],color=colors)\n",
    "plt.xlabel(\"Month of Order Date\")\n",
    "plt.ylabel(\"MoM (%) Change\")\n",
    "plt.xticks(rotation=45)\n",
    "plt.axhline(y=fixed_threshold,color=\"purple\",linestyle=\"--\",label=f\"Fixed Threshold ({fixed_threshold}%)\")\n",
    "plt.axhline(y = threshold_percentile,color=\"orange\",linestyle=\"--\",label=\"Percentile Threshold\")\n",
    "plt.axhline(y = standard_deviation_change,color=\"blue\",linestyle=\"--\",label=\"Std Dev Threshold\")\n",
    "plt.axhline(y = mean_change,color=\"brown\",linestyle=\"--\",label=\"Mean Change\")\n",
    "plt.legend()\n",
    "plt.show()"
   ]
  },
  {
   "cell_type": "code",
   "execution_count": 116,
   "id": "3e671ffb-255a-476f-9b13-ca49023d6490",
   "metadata": {},
   "outputs": [
    {
     "data": {
      "image/png": "[encoded data removed]",
      "text/plain": [
       "<Figure size 1000x500 with 2 Axes>"
      ]
     },
     "metadata": {},
     "output_type": "display_data"
    }
   ],
   "source": [
    "figure,axis1 = plt.subplots(figsize = (10,5))\n",
    "plt.title(\"Trend and MoM (%)\")\n",
    "axis1.plot(final_furniture_data_with_Mom[\"Month of Order Date\"] , final_furniture_data_with_Mom[\"Target\"] , marker=\"o\", linestyle=\"--\",color=\"tab:blue\")\n",
    "plt.xlabel(\"Month Of Order\")\n",
    "plt.ylabel(\"Target\")\n",
    "axis2 = axis1.twinx()\n",
    "axis2.plot(final_furniture_data_with_Mom[\"Month of Order Date\"],final_furniture_data_with_Mom[\"MoM (%) Change\"],marker = \"s\",linestyle=\"--\",color = \"tab:red\",label=\"Mom %\")\n",
    "plt.ylabel(\"MoM (%) Change\")\n",
    "plt.legend()\n",
    "plt.show()"
   ]
  },
  {
   "cell_type": "code",
   "execution_count": null,
   "id": "037c5178-1a25-4d75-991e-4339e82fe9e3",
   "metadata": {},
   "outputs": [],
   "source": []
  },
  {
   "cell_type": "code",
   "execution_count": null,
   "id": "07a74e24-2841-4714-b81f-064efdfad236",
   "metadata": {},
   "outputs": [],
   "source": []
  }
 ],
 "metadata": {
  "kernelspec": {
   "display_name": "Python 3 (ipykernel)",
   "language": "python",
   "name": "python3"
  },
  "language_info": {
   "codemirror_mode": {
    "name": "ipython",
    "version": 3
   },
   "file_extension": ".py",
   "mimetype": "text/x-python",
   "name": "python",
   "nbconvert_exporter": "python",
   "pygments_lexer": "ipython3",
   "version": "3.12.3"
  }
 },
 "nbformat": 4,
 "nbformat_minor": 5
}
